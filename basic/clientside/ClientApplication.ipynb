{
 "cells": [
  {
   "cell_type": "markdown",
   "id": "b2cbb4ee",
   "metadata": {},
   "source": [
    "# Client end for RESTAPI Application."
   ]
  },
  {
   "cell_type": "code",
   "execution_count": 1,
   "id": "2872d9ef",
   "metadata": {},
   "outputs": [
    {
     "name": "stdout",
     "output_type": "stream",
     "text": [
      "hello\n"
     ]
    }
   ],
   "source": [
    "print(\"hello\")"
   ]
  },
  {
   "cell_type": "code",
   "execution_count": 2,
   "id": "7296d18f",
   "metadata": {},
   "outputs": [],
   "source": [
    "# !pip install requests\n"
   ]
  },
  {
   "cell_type": "code",
   "execution_count": 3,
   "id": "07ece697",
   "metadata": {},
   "outputs": [],
   "source": [
    "import requests\n",
    "\n",
    "BASE_URL = \"http://127.0.0.1:5000\"\n"
   ]
  },
  {
   "cell_type": "markdown",
   "id": "b88d700c",
   "metadata": {},
   "source": [
    "## CRUD Operations\n",
    "\n",
    "\n",
    " "
   ]
  },
  {
   "cell_type": "markdown",
   "id": "f3a3830b",
   "metadata": {},
   "source": [
    "### Create (POST)"
   ]
  },
  {
   "cell_type": "code",
   "execution_count": 5,
   "id": "4a0b81d3",
   "metadata": {},
   "outputs": [
    {
     "name": "stdout",
     "output_type": "stream",
     "text": [
      "Status: 201\n",
      "Response: {'course': 'EEE', 'id': 13, 'name': 'punith'}\n"
     ]
    }
   ],
   "source": [
    "new_student = {\"name\": \"punith\", \"course\": \"EEE\"}\n",
    "response = requests.post(f\"{BASE_URL}/students\", json=new_student)\n",
    "print(\"Status:\", response.status_code)\n",
    "print(\"Response:\", response.json())\n"
   ]
  },
  {
   "cell_type": "markdown",
   "id": "c9d95f66",
   "metadata": {},
   "source": [
    "### Creating Multiple posts at a time."
   ]
  },
  {
   "cell_type": "code",
   "execution_count": 6,
   "id": "43aade4b",
   "metadata": {},
   "outputs": [
    {
     "name": "stdout",
     "output_type": "stream",
     "text": [
      "{'course': 'ECE', 'id': 14, 'name': 'rifha'}\n",
      "{'course': 'ECE', 'id': 15, 'name': 'shodhan'}\n",
      "{'course': 'CSE', 'id': 16, 'name': 'punith'}\n",
      "{'course': 'ise', 'id': 17, 'name': 'varna'}\n",
      "{'course': 'ds', 'id': 18, 'name': 'poorvi'}\n"
     ]
    }
   ],
   "source": [
    "students = [\n",
    "    {\"name\": \"rifha\", \"course\": \"ECE\"},\n",
    "    {\"name\": \"shodhan\", \"course\": \"ECE\"},\n",
    "    {\"name\": \"punith\", \"course\": \"CSE\"},\n",
    "    {\"name\": \"varna\", \"course\": \"ise\"},\n",
    "    {\"name\": \"poorvi\", \"course\": \"ds\"}\n",
    "]\n",
    "\n",
    "for student in students:\n",
    "    response = requests.post(f\"{BASE_URL}/students\", json=student)\n",
    "    print(response.json())\n"
   ]
  },
  {
   "cell_type": "markdown",
   "id": "8e094951",
   "metadata": {},
   "source": [
    "### Read All (GET)"
   ]
  },
  {
   "cell_type": "code",
   "execution_count": 7,
   "id": "8277db60",
   "metadata": {},
   "outputs": [
    {
     "name": "stdout",
     "output_type": "stream",
     "text": [
      "Status: 200\n",
      "Response: [{'course': 'AIML', 'id': 2, 'name': 'moyeez'}, {'course': 'aiml', 'id': 3, 'name': 'ayan'}, {'course': 'AI', 'id': 4, 'name': 'Sinchana Updated'}, {'course': 'CSE', 'id': 5, 'name': 'anas'}, {'course': 'ise', 'id': 6, 'name': 'asad'}, {'course': 'ds', 'id': 7, 'name': 'shoib'}, {'course': 'aiml', 'id': 8, 'name': 'ayan'}, {'course': 'CSE', 'id': 9, 'name': 'Soha'}, {'course': 'CSE', 'id': 10, 'name': 'anas'}, {'course': 'ise', 'id': 11, 'name': 'asad'}, {'course': 'ds', 'id': 12, 'name': 'shoib'}, {'course': 'EEE', 'id': 13, 'name': 'punith'}, {'course': 'ECE', 'id': 14, 'name': 'rifha'}, {'course': 'ECE', 'id': 15, 'name': 'shodhan'}, {'course': 'CSE', 'id': 16, 'name': 'punith'}, {'course': 'ise', 'id': 17, 'name': 'varna'}, {'course': 'ds', 'id': 18, 'name': 'poorvi'}]\n"
     ]
    }
   ],
   "source": [
    "response = requests.get(f\"{BASE_URL}/students\")\n",
    "print(\"Status:\", response.status_code)\n",
    "print(\"Response:\", response.json())\n"
   ]
  },
  {
   "cell_type": "markdown",
   "id": "8776ac6a",
   "metadata": {},
   "source": [
    "### Read One (GET by ID)"
   ]
  },
  {
   "cell_type": "code",
   "execution_count": 8,
   "id": "40292f49",
   "metadata": {},
   "outputs": [
    {
     "name": "stdout",
     "output_type": "stream",
     "text": [
      "Status: 200\n",
      "Response: {'course': 'ECE', 'id': 15, 'name': 'shodhan'}\n"
     ]
    }
   ],
   "source": [
    "student_id = 15\n",
    "response = requests.get(f\"{BASE_URL}/students/{student_id}\")\n",
    "print(\"Status:\", response.status_code)\n",
    "print(\"Response:\", response.json())\n"
   ]
  },
  {
   "cell_type": "markdown",
   "id": "7e70cb0f",
   "metadata": {},
   "source": [
    "### Update (PUT)"
   ]
  },
  {
   "cell_type": "code",
   "execution_count": 9,
   "id": "98ecc6b7",
   "metadata": {},
   "outputs": [
    {
     "name": "stdout",
     "output_type": "stream",
     "text": [
      "Status: 200\n",
      "Response: {'course': 'AI', 'id': 15, 'name': 'Sinchana Updated'}\n"
     ]
    }
   ],
   "source": [
    "student_id = 15\n",
    "update_data = {\"name\": \"Sinchana Updated\", \"course\": \"AI\"}\n",
    "response = requests.put(f\"{BASE_URL}/students/{student_id}\", json=update_data)\n",
    "print(\"Status:\", response.status_code)\n",
    "print(\"Response:\", response.json())\n"
   ]
  },
  {
   "cell_type": "markdown",
   "id": "43038187",
   "metadata": {},
   "source": [
    "### Delete (DELETE)"
   ]
  },
  {
   "cell_type": "code",
   "execution_count": 10,
   "id": "5673f164",
   "metadata": {},
   "outputs": [
    {
     "name": "stdout",
     "output_type": "stream",
     "text": [
      "Status: 200\n",
      "Response: {'message': 'Student deleted'}\n"
     ]
    }
   ],
   "source": [
    "student_id = 15\n",
    "response = requests.delete(f\"{BASE_URL}/students/{student_id}\")\n",
    "print(\"Status:\", response.status_code)\n",
    "print(\"Response:\", response.json())\n"
   ]
  },
  {
   "cell_type": "code",
   "execution_count": 11,
   "id": "15bd7159",
   "metadata": {},
   "outputs": [
    {
     "name": "stdout",
     "output_type": "stream",
     "text": [
      "[{'course': 'AIML', 'id': 2, 'name': 'moyeez'}, {'course': 'aiml', 'id': 3, 'name': 'ayan'}, {'course': 'AI', 'id': 4, 'name': 'Sinchana Updated'}, {'course': 'CSE', 'id': 5, 'name': 'anas'}, {'course': 'ise', 'id': 6, 'name': 'asad'}, {'course': 'ds', 'id': 7, 'name': 'shoib'}, {'course': 'aiml', 'id': 8, 'name': 'ayan'}, {'course': 'CSE', 'id': 9, 'name': 'Soha'}, {'course': 'CSE', 'id': 10, 'name': 'anas'}, {'course': 'ise', 'id': 11, 'name': 'asad'}, {'course': 'ds', 'id': 12, 'name': 'shoib'}, {'course': 'EEE', 'id': 13, 'name': 'punith'}, {'course': 'ECE', 'id': 14, 'name': 'rifha'}, {'course': 'CSE', 'id': 16, 'name': 'punith'}, {'course': 'ise', 'id': 17, 'name': 'varna'}, {'course': 'ds', 'id': 18, 'name': 'poorvi'}]\n"
     ]
    }
   ],
   "source": [
    "import requests\n",
    "response = requests.get(\"http://127.0.0.1:5000/students\")\n",
    "print(response.json())\n"
   ]
  },
  {
   "cell_type": "code",
   "execution_count": null,
   "id": "3d9249d4",
   "metadata": {},
   "outputs": [],
   "source": []
  }
 ],
 "metadata": {
  "kernelspec": {
   "display_name": "yenepoya",
   "language": "python",
   "name": "python3"
  },
  "language_info": {
   "codemirror_mode": {
    "name": "ipython",
    "version": 3
   },
   "file_extension": ".py",
   "mimetype": "text/x-python",
   "name": "python",
   "nbconvert_exporter": "python",
   "pygments_lexer": "ipython3",
   "version": "3.11.13"
  }
 },
 "nbformat": 4,
 "nbformat_minor": 5
}
